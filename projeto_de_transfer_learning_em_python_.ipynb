{
  "nbformat": 4,
  "nbformat_minor": 0,
  "metadata": {
    "colab": {
      "provenance": [],
      "authorship_tag": "ABX9TyP0JfmbQA8+q6InPxs8JccS",
      "include_colab_link": true
    },
    "kernelspec": {
      "name": "python3",
      "display_name": "Python 3"
    },
    "language_info": {
      "name": "python"
    }
  },
  "cells": [
    {
      "cell_type": "markdown",
      "metadata": {
        "id": "view-in-github",
        "colab_type": "text"
      },
      "source": [
        "<a href=\"https://colab.research.google.com/github/rodrigoulart/projeto-site/blob/main/projeto_de_transfer_learning_em_python_.ipynb\" target=\"_parent\"><img src=\"https://colab.research.google.com/assets/colab-badge.svg\" alt=\"Open In Colab\"/></a>"
      ]
    },
    {
      "cell_type": "code",
      "execution_count": 12,
      "metadata": {
        "id": "q8bQJtkomWvF"
      },
      "outputs": [],
      "source": [
        "# Instalação e importação\n",
        "!pip install tensorflow --quiet\n",
        "\n",
        "import tensorflow as tf\n",
        "from tensorflow.keras.preprocessing.image import ImageDataGenerator\n",
        "from tensorflow.keras.applications import MobileNetV2\n",
        "from tensorflow.keras.layers import Dense, GlobalAveragePooling2D\n",
        "from tensorflow.keras.models import Model\n",
        "from tensorflow.keras.optimizers import Adam\n",
        "import os\n",
        "import zipfile\n",
        "import matplotlib.pyplot as plt\n"
      ]
    },
    {
      "cell_type": "code",
      "source": [
        "# Baixar e descompactar dataset\n",
        "url = \"https://download.microsoft.com/download/3/E/1/3E1C3F21-ECDB-4869-8368-6DEBA77B919F/kagglecatsanddogs_5340.zip\"\n",
        "dataset_path = \"/content/kagglecatsanddogs_5340.zip\"\n",
        "\n",
        "# Baixar o arquivo\n",
        "os.system(f\"curl -o {dataset_path} {url}\")\n",
        "\n",
        "# Descompactar o arquivo\n",
        "with zipfile.ZipFile(dataset_path, 'r') as zip_ref:\n",
        "    zip_ref.extractall(\"/content\")\n",
        "\n",
        "# Diretório do dataset\n",
        "data_dir = \"/content/PetImages\"\n",
        "os.listdir(data_dir)\n"
      ],
      "metadata": {
        "colab": {
          "base_uri": "https://localhost:8080/"
        },
        "id": "x2v-ZgI9nceC",
        "outputId": "453d595f-6da6-4175-ce3d-bdd1697ef6a5"
      },
      "execution_count": 13,
      "outputs": [
        {
          "output_type": "execute_result",
          "data": {
            "text/plain": [
              "['Cat', 'Dog']"
            ]
          },
          "metadata": {},
          "execution_count": 13
        }
      ]
    },
    {
      "cell_type": "code",
      "source": [
        "# Bloco 3 – Preparar geradores de treino e validação com filtro de imagens corrompidas\n",
        "from PIL import Image\n",
        "import shutil\n",
        "\n",
        "IMG_SIZE = 224\n",
        "BATCH_SIZE = 32\n",
        "\n",
        "# Função para verificar imagens válidas\n",
        "def filter_corrupted_images(folder):\n",
        "    valid_files = []\n",
        "    for filename in os.listdir(folder):\n",
        "        file_path = os.path.join(folder, filename)\n",
        "        try:\n",
        "            img = Image.open(file_path)\n",
        "            img.verify()  # verifica se a imagem está OK\n",
        "            valid_files.append(file_path)\n",
        "        except:\n",
        "            print(f\"Imagem corrompida removida: {file_path}\")\n",
        "    return valid_files\n",
        "\n",
        "# Filtrar imagens corrompidas\n",
        "cat_files = filter_corrupted_images(os.path.join(data_dir, \"Cat\"))\n",
        "dog_files = filter_corrupted_images(os.path.join(data_dir, \"Dog\"))\n",
        "\n",
        "# Criar pastas temporárias para imagens válidas\n",
        "clean_dir = \"/content/cleaned_pet_images\"\n",
        "os.makedirs(os.path.join(clean_dir, \"Cat\"), exist_ok=True)\n",
        "os.makedirs(os.path.join(clean_dir, \"Dog\"), exist_ok=True)\n",
        "\n",
        "# Copiar imagens válidas para as pastas limpas\n",
        "for f in cat_files:\n",
        "    shutil.copy(f, os.path.join(clean_dir, \"Cat\"))\n",
        "for f in dog_files:\n",
        "    shutil.copy(f, os.path.join(clean_dir, \"Dog\"))\n",
        "\n",
        "# Geradores usando pastas limpas\n",
        "train_datagen = ImageDataGenerator(\n",
        "    rescale=1./255,\n",
        "    rotation_range=20,\n",
        "    width_shift_range=0.2,\n",
        "    height_shift_range=0.2,\n",
        "    shear_range=0.2,\n",
        "    zoom_range=0.2,\n",
        "    horizontal_flip=True,\n",
        "    fill_mode='nearest',\n",
        "    validation_split=0.2\n",
        ")\n",
        "\n",
        "val_datagen = ImageDataGenerator(\n",
        "    rescale=1./255,\n",
        "    validation_split=0.2\n",
        ")\n",
        "\n",
        "train_generator = train_datagen.flow_from_directory(\n",
        "    clean_dir,\n",
        "    target_size=(IMG_SIZE, IMG_SIZE),\n",
        "    batch_size=BATCH_SIZE,\n",
        "    class_mode='binary',\n",
        "    subset='training',\n",
        "    shuffle=True,\n",
        "    seed=42\n",
        ")\n",
        "\n",
        "validation_generator = val_datagen.flow_from_directory(\n",
        "    clean_dir,\n",
        "    target_size=(IMG_SIZE, IMG_SIZE),\n",
        "    batch_size=BATCH_SIZE,\n",
        "    class_mode='binary',\n",
        "    subset='validation',\n",
        "    shuffle=True,\n",
        "    seed=42\n",
        ")\n",
        "\n",
        "# Limitar número de batches para acelerar treinamento\n",
        "steps_per_epoch = 100\n",
        "validation_steps = 50\n"
      ],
      "metadata": {
        "colab": {
          "base_uri": "https://localhost:8080/"
        },
        "id": "GVpyPentngNA",
        "outputId": "9c25fac3-c723-42cb-f828-536bc16b8419"
      },
      "execution_count": 14,
      "outputs": [
        {
          "output_type": "stream",
          "name": "stdout",
          "text": [
            "Imagem corrompida removida: /content/PetImages/Cat/666.jpg\n",
            "Imagem corrompida removida: /content/PetImages/Cat/Thumbs.db\n",
            "Imagem corrompida removida: /content/PetImages/Dog/11702.jpg\n",
            "Imagem corrompida removida: /content/PetImages/Dog/Thumbs.db\n",
            "Found 20000 images belonging to 2 classes.\n",
            "Found 4998 images belonging to 2 classes.\n"
          ]
        }
      ]
    },
    {
      "cell_type": "code",
      "source": [
        "# Criar modelo MobileNetV2\n",
        "base_model = MobileNetV2(weights='imagenet', include_top=False, input_shape=(IMG_SIZE, IMG_SIZE, 3))\n",
        "base_model.trainable = False\n",
        "\n",
        "x = base_model.output\n",
        "x = GlobalAveragePooling2D()(x)\n",
        "x = Dense(128, activation='relu')(x)\n",
        "output = Dense(1, activation='sigmoid')(x)\n",
        "\n",
        "model = Model(inputs=base_model.input, outputs=output)\n",
        "\n",
        "model.compile(optimizer=Adam(learning_rate=0.0001),\n",
        "              loss='binary_crossentropy',\n",
        "              metrics=['accuracy'])\n"
      ],
      "metadata": {
        "id": "D6XnbB8XnhuZ"
      },
      "execution_count": 15,
      "outputs": []
    },
    {
      "cell_type": "code",
      "source": [
        "# Treinar camadas finais\n",
        "history = model.fit(\n",
        "    train_generator,\n",
        "    steps_per_epoch=steps_per_epoch,\n",
        "    epochs=3,\n",
        "    validation_data=validation_generator,\n",
        "    validation_steps=validation_steps\n",
        ")\n"
      ],
      "metadata": {
        "colab": {
          "base_uri": "https://localhost:8080/"
        },
        "id": "AIde-NJOnjRJ",
        "outputId": "43b6e4d7-9d64-481c-e5f3-99411e4831fb"
      },
      "execution_count": 16,
      "outputs": [
        {
          "output_type": "stream",
          "name": "stdout",
          "text": [
            "Epoch 1/3\n",
            "\u001b[1m100/100\u001b[0m \u001b[32m━━━━━━━━━━━━━━━━━━━━\u001b[0m\u001b[37m\u001b[0m \u001b[1m229s\u001b[0m 2s/step - accuracy: 0.8551 - loss: 0.3758 - val_accuracy: 0.9800 - val_loss: 0.0757\n",
            "Epoch 2/3\n",
            "\u001b[1m100/100\u001b[0m \u001b[32m━━━━━━━━━━━━━━━━━━━━\u001b[0m\u001b[37m\u001b[0m \u001b[1m261s\u001b[0m 3s/step - accuracy: 0.9610 - loss: 0.1039 - val_accuracy: 0.9806 - val_loss: 0.0593\n",
            "Epoch 3/3\n",
            "\u001b[1m100/100\u001b[0m \u001b[32m━━━━━━━━━━━━━━━━━━━━\u001b[0m\u001b[37m\u001b[0m \u001b[1m262s\u001b[0m 3s/step - accuracy: 0.9657 - loss: 0.0890 - val_accuracy: 0.9794 - val_loss: 0.0513\n"
          ]
        }
      ]
    },
    {
      "cell_type": "code",
      "source": [
        "# Fine-Tuning parcial\n",
        "base_model.trainable = True\n",
        "\n",
        "# Congelar todas as camadas menos as últimas 50\n",
        "for layer in base_model.layers[:-50]:\n",
        "    layer.trainable = False\n",
        "\n",
        "model.compile(optimizer=Adam(learning_rate=1e-5),\n",
        "              loss='binary_crossentropy',\n",
        "              metrics=['accuracy'])\n",
        "\n",
        "history_finetune = model.fit(\n",
        "    train_generator,\n",
        "    steps_per_epoch=steps_per_epoch,\n",
        "    epochs=3,\n",
        "    validation_data=validation_generator,\n",
        "    validation_steps=validation_steps\n",
        ")\n"
      ],
      "metadata": {
        "colab": {
          "base_uri": "https://localhost:8080/"
        },
        "id": "mUG5I4Eonk0R",
        "outputId": "f9388386-49bd-48c0-9364-4e36b77945fc"
      },
      "execution_count": 17,
      "outputs": [
        {
          "output_type": "stream",
          "name": "stdout",
          "text": [
            "Epoch 1/3\n",
            "\u001b[1m100/100\u001b[0m \u001b[32m━━━━━━━━━━━━━━━━━━━━\u001b[0m\u001b[37m\u001b[0m \u001b[1m309s\u001b[0m 3s/step - accuracy: 0.8359 - loss: 0.3675 - val_accuracy: 0.9819 - val_loss: 0.0532\n",
            "Epoch 2/3\n",
            "\u001b[1m100/100\u001b[0m \u001b[32m━━━━━━━━━━━━━━━━━━━━\u001b[0m\u001b[37m\u001b[0m \u001b[1m324s\u001b[0m 3s/step - accuracy: 0.9393 - loss: 0.1404 - val_accuracy: 0.9806 - val_loss: 0.0509\n",
            "Epoch 3/3\n",
            "\u001b[1m100/100\u001b[0m \u001b[32m━━━━━━━━━━━━━━━━━━━━\u001b[0m\u001b[37m\u001b[0m \u001b[1m295s\u001b[0m 3s/step - accuracy: 0.9549 - loss: 0.1036 - val_accuracy: 0.9850 - val_loss: 0.0411\n"
          ]
        }
      ]
    },
    {
      "cell_type": "code",
      "source": [
        "# Avaliar modelo\n",
        "loss, acc = model.evaluate(validation_generator, steps=validation_steps)\n",
        "print(f'Val Loss: {loss:.4f}, Val Accuracy: {acc:.4f}')\n"
      ],
      "metadata": {
        "colab": {
          "base_uri": "https://localhost:8080/"
        },
        "id": "48oesSDvnpEq",
        "outputId": "29845862-8903-42d2-c0a6-56f0e11bcb0e"
      },
      "execution_count": 18,
      "outputs": [
        {
          "output_type": "stream",
          "name": "stdout",
          "text": [
            "\u001b[1m50/50\u001b[0m \u001b[32m━━━━━━━━━━━━━━━━━━━━\u001b[0m\u001b[37m\u001b[0m \u001b[1m70s\u001b[0m 1s/step - accuracy: 0.9825 - loss: 0.0484\n",
            "Val Loss: 0.0436, Val Accuracy: 0.9844\n"
          ]
        }
      ]
    },
    {
      "cell_type": "code",
      "source": [
        "# Salvar modelo\n",
        "model.save('cats_dogs_transfer_learning_finetune.h5')\n"
      ],
      "metadata": {
        "colab": {
          "base_uri": "https://localhost:8080/"
        },
        "id": "rlfn4zQcnqPi",
        "outputId": "556df114-9403-4879-c8f6-e1ceb27be0fa"
      },
      "execution_count": 19,
      "outputs": [
        {
          "output_type": "stream",
          "name": "stderr",
          "text": [
            "WARNING:absl:You are saving your model as an HDF5 file via `model.save()` or `keras.saving.save_model(model)`. This file format is considered legacy. We recommend using instead the native Keras format, e.g. `model.save('my_model.keras')` or `keras.saving.save_model(model, 'my_model.keras')`. \n"
          ]
        }
      ]
    },
    {
      "cell_type": "code",
      "source": [
        "# Plotar histórico de treino\n",
        "plt.plot(history.history['accuracy'], label='Train Acc TL')\n",
        "plt.plot(history.history['val_accuracy'], label='Val Acc TL')\n",
        "\n",
        "plt.plot(history_finetune.history['accuracy'], label='Train Acc FT')\n",
        "plt.plot(history_finetune.history['val_accuracy'], label='Val Acc FT')\n",
        "\n",
        "plt.xlabel('Epoch')\n",
        "plt.ylabel('Accuracy')\n",
        "plt.legend()\n",
        "plt.show()\n"
      ],
      "metadata": {
        "colab": {
          "base_uri": "https://localhost:8080/",
          "height": 449
        },
        "id": "jJzKOagfnvOI",
        "outputId": "6282a5dc-8477-4e98-cd6d-e387a7b9748d"
      },
      "execution_count": 20,
      "outputs": [
        {
          "output_type": "display_data",
          "data": {
            "text/plain": [
              "<Figure size 640x480 with 1 Axes>"
            ],
            "image/png": "[encoded data removed]"
          },
          "metadata": {}
        }
      ]
    }
  ]
}